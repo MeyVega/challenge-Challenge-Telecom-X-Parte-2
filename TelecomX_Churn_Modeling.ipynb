{
 "cells": [
  {
   "cell_type": "markdown",
   "id": "9f9f786e",
   "metadata": {},
   "source": [
    "# 📊 Telecom X – Parte 2: Predicción de Cancelación (Churn)\n",
    "Este notebook desarrolla modelos de clasificación para predecir la cancelación de clientes.\n",
    "La información fue preprocesada en la Parte 1 del proyecto.\n"
   ]
  },
  {
   "cell_type": "code",
   "execution_count": null,
   "id": "1d4ffc38",
   "metadata": {},
   "outputs": [],
   "source": [
    "import pandas as pd\n",
    "import numpy as np\n",
    "import matplotlib.pyplot as plt\n",
    "import seaborn as sns\n",
    "from sklearn.model_selection import train_test_split\n",
    "from sklearn.preprocessing import StandardScaler\n",
    "from sklearn.linear_model import LogisticRegression\n",
    "from sklearn.ensemble import RandomForestClassifier\n",
    "from sklearn.metrics import classification_report, confusion_matrix, ConfusionMatrixDisplay\n",
    "from imblearn.over_sampling import SMOTE\n",
    "import warnings\n",
    "warnings.filterwarnings('ignore')\n",
    "sns.set(style='whitegrid')"
   ]
  },
  {
   "cell_type": "markdown",
   "id": "dca7dab3",
   "metadata": {},
   "source": [
    "## 📥 Carga del dataset limpio"
   ]
  },
  {
   "cell_type": "code",
   "execution_count": null,
   "id": "109c9b8b",
   "metadata": {},
   "outputs": [],
   "source": [
    "# Suponemos que el dataset limpio fue exportado desde la Parte 1 como CSV\n",
    "df = pd.read_csv('TelecomX_datos_limpios.csv')  # ← Reemplaza con la ruta real si es necesario\n",
    "df.head()"
   ]
  },
  {
   "cell_type": "markdown",
   "id": "d3b7cbd4",
   "metadata": {},
   "source": [
    "## ⚙️ Preprocesamiento de datos"
   ]
  },
  {
   "cell_type": "code",
   "execution_count": null,
   "id": "7bc27dc7",
   "metadata": {},
   "outputs": [],
   "source": [
    "# Eliminar columnas irrelevantes\n",
    "df = df.drop(columns=['ID_Cliente'], errors='ignore')\n",
    "\n",
    "# Convertir columna objetivo a binaria si no lo está\n",
    "df['Evasion'] = df['Evasion'].map({'Yes': 1, 'No': 0}) if df['Evasion'].dtype == 'object' else df['Evasion']\n",
    "\n",
    "# Codificación de variables categóricas\n",
    "df_encoded = pd.get_dummies(df, drop_first=True)\n",
    "\n",
    "# Separar variables y objetivo\n",
    "X = df_encoded.drop('Evasion', axis=1)\n",
    "y = df_encoded['Evasion']"
   ]
  },
  {
   "cell_type": "markdown",
   "id": "051cc5d8",
   "metadata": {},
   "source": [
    "## 🔄 Balanceo de clases con SMOTE"
   ]
  },
  {
   "cell_type": "code",
   "execution_count": null,
   "id": "4000ac0d",
   "metadata": {},
   "outputs": [],
   "source": [
    "smote = SMOTE(random_state=42)\n",
    "X_bal, y_bal = smote.fit_resample(X, y)\n",
    "y_bal.value_counts()"
   ]
  },
  {
   "cell_type": "markdown",
   "id": "e143e3b0",
   "metadata": {},
   "source": [
    "## 📚 División de datos en entrenamiento y prueba"
   ]
  },
  {
   "cell_type": "code",
   "execution_count": null,
   "id": "a47b3cc6",
   "metadata": {},
   "outputs": [],
   "source": [
    "X_train, X_test, y_train, y_test = train_test_split(X_bal, y_bal, test_size=0.3, random_state=42, stratify=y_bal)"
   ]
  },
  {
   "cell_type": "markdown",
   "id": "e76369f9",
   "metadata": {},
   "source": [
    "## 📏 Normalización para modelos que lo requieren"
   ]
  },
  {
   "cell_type": "code",
   "execution_count": null,
   "id": "62b6e087",
   "metadata": {},
   "outputs": [],
   "source": [
    "scaler = StandardScaler()\n",
    "X_train_scaled = scaler.fit_transform(X_train)\n",
    "X_test_scaled = scaler.transform(X_test)"
   ]
  },
  {
   "cell_type": "markdown",
   "id": "5d715bd8",
   "metadata": {},
   "source": [
    "## 🤖 Modelo 1: Regresión Logística"
   ]
  },
  {
   "cell_type": "code",
   "execution_count": null,
   "id": "06572930",
   "metadata": {},
   "outputs": [],
   "source": [
    "log_model = LogisticRegression(max_iter=1000)\n",
    "log_model.fit(X_train_scaled, y_train)\n",
    "y_pred_log = log_model.predict(X_test_scaled)\n",
    "\n",
    "print(classification_report(y_test, y_pred_log))\n",
    "ConfusionMatrixDisplay.from_predictions(y_test, y_pred_log, cmap='Blues')\n",
    "plt.title('Matriz de Confusión - Regresión Logística')\n",
    "plt.show()"
   ]
  },
  {
   "cell_type": "markdown",
   "id": "4ce8f294",
   "metadata": {},
   "source": [
    "## 🌳 Modelo 2: Random Forest"
   ]
  },
  {
   "cell_type": "code",
   "execution_count": null,
   "id": "f80fa00b",
   "metadata": {},
   "outputs": [],
   "source": [
    "rf_model = RandomForestClassifier(random_state=42)\n",
    "rf_model.fit(X_train, y_train)\n",
    "y_pred_rf = rf_model.predict(X_test)\n",
    "\n",
    "print(classification_report(y_test, y_pred_rf))\n",
    "ConfusionMatrixDisplay.from_predictions(y_test, y_pred_rf, cmap='Greens')\n",
    "plt.title('Matriz de Confusión - Random Forest')\n",
    "plt.show()"
   ]
  },
  {
   "cell_type": "markdown",
   "id": "6b8221e9",
   "metadata": {},
   "source": [
    "## 📌 Importancia de Variables (Random Forest)"
   ]
  },
  {
   "cell_type": "code",
   "execution_count": null,
   "id": "0f5cfa76",
   "metadata": {},
   "outputs": [],
   "source": [
    "importances = pd.Series(rf_model.feature_importances_, index=X.columns)\n",
    "importances.nlargest(15).sort_values().plot(kind='barh')\n",
    "plt.title('Top 15 Variables más importantes')\n",
    "plt.xlabel('Importancia')\n",
    "plt.tight_layout()\n",
    "plt.show()"
   ]
  },
  {
   "cell_type": "markdown",
   "id": "2f0724e6",
   "metadata": {},
   "source": [
    "## ✅ Conclusiones y Recomendaciones"
   ]
  },
  {
   "cell_type": "markdown",
   "id": "ef7dd0b3",
   "metadata": {},
   "source": [
    "- Ambos modelos tuvieron un buen desempeño, siendo Random Forest más robusto.\n",
    "- Las variables clave fueron el tipo de contrato, método de pago, permanencia y cargos mensuales.\n",
    "- Recomendaciones estratégicas:\n",
    "  1. Incentivar contratos largos.\n",
    "  2. Atender más a los clientes nuevos.\n",
    "  3. Promover pagos automáticos o electrónicos.\n",
    "  4. Revisar experiencia de clientes con cargos altos."
   ]
  }
 ],
 "metadata": {
  "language_info": {
   "name": "python"
  }
 },
 "nbformat": 4,
 "nbformat_minor": 5
}
